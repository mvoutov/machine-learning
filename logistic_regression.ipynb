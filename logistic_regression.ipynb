{
 "cells": [
  {
   "cell_type": "markdown",
   "id": "4bf0d06d-b0d8-4bf2-aabc-677e2b2a9372",
   "metadata": {},
   "source": [
    "# Logistic Regression\n",
    "10/02/23 Monika Voutov"
   ]
  },
  {
   "cell_type": "code",
   "execution_count": 122,
   "id": "28e050b7-fee5-45fd-b423-5c33c27b3fe9",
   "metadata": {},
   "outputs": [],
   "source": [
    "import pandas as pd\n",
    "import statsmodels.formula.api as smf"
   ]
  },
  {
   "cell_type": "markdown",
   "id": "6e008b0f",
   "metadata": {},
   "source": [
    "# Import Data"
   ]
  },
  {
   "cell_type": "code",
   "execution_count": 123,
   "id": "3f75a8b0-6dab-4525-9c93-89588ef6adc8",
   "metadata": {},
   "outputs": [],
   "source": [
    "training_data = pd.read_csv('data/framingham_train.csv')\n",
    "testing_data = pd.read_csv('data/framingham_test.csv')"
   ]
  },
  {
   "cell_type": "code",
   "execution_count": 124,
   "id": "b3018b81-1e82-4e08-a527-7e9830139818",
   "metadata": {},
   "outputs": [],
   "source": [
    "#training_data.head()"
   ]
  },
  {
   "cell_type": "code",
   "execution_count": 125,
   "id": "8b425817-df81-4720-b724-135aa91727d8",
   "metadata": {},
   "outputs": [
    {
     "data": {
      "text/plain": [
       "((2560, 16), (1098, 16))"
      ]
     },
     "execution_count": 125,
     "metadata": {},
     "output_type": "execute_result"
    }
   ],
   "source": [
    "# check the shape of training and testing data\n",
    "training_data.shape, testing_data.shape"
   ]
  },
  {
   "cell_type": "markdown",
   "id": "8dad3f45",
   "metadata": {},
   "source": [
    "# Logistic Regression"
   ]
  },
  {
   "cell_type": "code",
   "execution_count": 135,
   "id": "b6ced2f5-b921-457c-93b5-806ac211aacd",
   "metadata": {},
   "outputs": [
    {
     "name": "stdout",
     "output_type": "stream",
     "text": [
      "Optimization terminated successfully.\n",
      "         Current function value: 0.371879\n",
      "         Iterations 7\n",
      "                           Logit Regression Results                           \n",
      "==============================================================================\n",
      "Dep. Variable:             TenYearCHD   No. Observations:                 2560\n",
      "Model:                          Logit   Df Residuals:                     2542\n",
      "Method:                           MLE   Df Model:                           17\n",
      "Date:                Mon, 02 Oct 2023   Pseudo R-squ.:                  0.1102\n",
      "Time:                        15:55:24   Log-Likelihood:                -952.01\n",
      "converged:                       True   LL-Null:                       -1069.9\n",
      "Covariance Type:            nonrobust   LLR p-value:                 1.627e-40\n",
      "===============================================================================================================\n",
      "                                                  coef    std err          z      P>|z|      [0.025      0.975]\n",
      "---------------------------------------------------------------------------------------------------------------\n",
      "Intercept                                      -8.0533      0.855     -9.423      0.000      -9.728      -6.378\n",
      "education[T.High school/GED]                    0.0041      0.221      0.018      0.985      -0.428       0.436\n",
      "education[T.Some college/vocational school]     0.1267      0.242      0.524      0.601      -0.348       0.601\n",
      "education[T.Some high school]                   0.1930      0.205      0.940      0.347      -0.209       0.595\n",
      "male                                            0.5124      0.133      3.855      0.000       0.252       0.773\n",
      "age                                             0.0637      0.008      7.830      0.000       0.048       0.080\n",
      "currentSmoker                                   0.0608      0.191      0.318      0.750      -0.314       0.435\n",
      "cigsPerDay                                      0.0190      0.008      2.507      0.012       0.004       0.034\n",
      "BPMeds                                          0.1631      0.279      0.584      0.559      -0.385       0.711\n",
      "prevalentStroke                                 0.7908      0.570      1.387      0.166      -0.327       1.909\n",
      "prevalentHyp                                    0.2797      0.166      1.682      0.093      -0.046       0.606\n",
      "diabetes                                       -0.0086      0.378     -0.023      0.982      -0.750       0.733\n",
      "totChol                                         0.0027      0.001      1.975      0.048    2.11e-05       0.005\n",
      "sysBP                                           0.0133      0.005      2.832      0.005       0.004       0.022\n",
      "diaBP                                          -0.0066      0.008     -0.810      0.418      -0.023       0.009\n",
      "BMI                                             0.0150      0.016      0.964      0.335      -0.015       0.045\n",
      "heartRate                                      -0.0056      0.005     -1.084      0.279      -0.016       0.005\n",
      "glucose                                         0.0054      0.003      1.979      0.048    5.27e-05       0.011\n",
      "===============================================================================================================\n"
     ]
    }
   ],
   "source": [
    "logreg = smf.logit(formula ='TenYearCHD ~ male + age + education +'\\\n",
    "                            'currentSmoker + cigsPerDay + BPMeds +'\\\n",
    "                            'prevalentStroke + prevalentHyp + diabetes + '\\\n",
    "                            'totChol + sysBP + diaBP + BMI + '\\\n",
    "                            'heartRate + glucose',\n",
    "                    data = training_data).fit()\n",
    "print(logreg.summary())"
   ]
  },
  {
   "cell_type": "code",
   "execution_count": null,
   "id": "dd1c9906",
   "metadata": {},
   "outputs": [],
   "source": []
  },
  {
   "cell_type": "markdown",
   "id": "8a1b5a49",
   "metadata": {},
   "source": []
  },
  {
   "cell_type": "markdown",
   "id": "9bd6d11a",
   "metadata": {},
   "source": []
  },
  {
   "cell_type": "markdown",
   "id": "cbc15f70",
   "metadata": {},
   "source": []
  },
  {
   "cell_type": "markdown",
   "id": "f424d939",
   "metadata": {},
   "source": [
    "## Logistic Regression Formula\n",
    "\n",
    "### **Answer 1 a) i**"
   ]
  },
  {
   "cell_type": "markdown",
   "id": "406b90ac",
   "metadata": {},
   "source": [
    "The probability $ P(Y = 1 | X) $ can be computed using the logistic regression model as follows:\n",
    "\\begin{aligned}\n",
    "P(Y = 1 | X ) = \\frac{1}{1 + e^{-x}}\n",
    "\\end{aligned}\n",
    "Where $ x $ is a linear combination of the model coefficients and feature values, represented as:\n",
    "\n",
    "\\begin{aligned}\n",
    "x = & -8.0533 \\\\\n",
    "& + 0.0041 \\cdot \\text{{education[High school/GED]}} \\\\\n",
    "& + 0.1267 \\cdot \\text{{education[Some college/vocational school]}} \\\\\n",
    "& + 0.1930 \\cdot \\text{{education[Some high school]}} \\\\\n",
    "& + 0.5124 \\cdot \\text{{male}} \\\\\n",
    "& + 0.0637 \\cdot \\text{{age}} \\\\\n",
    "& + 0.0608 \\cdot \\text{{currentSmoker}} \\\\\n",
    "& + 0.0190 \\cdot \\text{{cigsPerDay}} \\\\\n",
    "& + 0.1631 \\cdot \\text{{BPMeds}} \\\\\n",
    "& + 0.7908 \\cdot \\text{{prevalentStroke}} \\\\\n",
    "& + 0.2797 \\cdot \\text{{prevalentHyp}} \\\\\n",
    "& - 0.0086 \\cdot \\text{{diabetes}} \\\\\n",
    "& + 0.0027 \\cdot \\text{{totChol}} \\\\\n",
    "& + 0.0133 \\cdot \\text{{sysBP}} \\\\\n",
    "& - 0.0066 \\cdot \\text{{diaBP}} \\\\\n",
    "& + 0.0150 \\cdot \\text{{BMI}} \\\\\n",
    "& - 0.0056 \\cdot \\text{{heartRate}} \\\\\n",
    "& + 0.0054 \\cdot \\text{{glucose}}\n",
    "\\end{aligned}"
   ]
  },
  {
   "cell_type": "markdown",
   "id": "a133db9d",
   "metadata": {},
   "source": [
    "### **Answer 1 a) ii**\n",
    "\n",
    "The most important(significant) factors are: `male`, `age`, `cigsPerDay`, `sysBP`, `totChol`, and `glycose`. These are the only values that have p-small values below significance level 0.05%.\n",
    "\n",
    "The factor `male` means that a male (gender) has a higher chance of developing CHD in the next 10 years (than a female) by $ e^{0.5124} = 1.6693$. "
   ]
  },
  {
   "cell_type": "markdown",
   "id": "830e2279",
   "metadata": {},
   "source": [
    "### **Answer 1 a) iii**\n",
    "\n",
    "**The Loss from Treatment:** \\\n",
    "$PL(with treatment) = 0.1*p*1,050,000 + (1 - 0.1*p)*95,000$\\\n",
    "**The Loss from No Treatment:**\\\n",
    " $PL(no treatment) = p*955,000 + (1-p)*0$\n",
    "\n",
    "The threshold $p(bar) = \\frac{95,000}{859,500} = 0.1105$ therefore, if the patient's risk is higher than the $p(bar)$ value, it is optimal to prescribe the medication."
   ]
  },
  {
   "cell_type": "code",
   "execution_count": 127,
   "id": "0345da9c",
   "metadata": {},
   "outputs": [],
   "source": [
    "# Predicting the probability of default\n",
    "y_prob = logreg.predict(testing_data)\n",
    "\n",
    "# Predicting the label\n",
    "y_pred = pd.Series([1 if x > 0.1105 else 0 for x in y_prob], index=y_prob.index)"
   ]
  },
  {
   "cell_type": "code",
   "execution_count": 128,
   "id": "36bf91b0",
   "metadata": {},
   "outputs": [
    {
     "name": "stdout",
     "output_type": "stream",
     "text": [
      "Confusion Matrix : \n",
      " [[495 423]\n",
      " [ 31 149]]\n"
     ]
    }
   ],
   "source": [
    "from sklearn.metrics import confusion_matrix\n",
    "y_test = testing_data['TenYearCHD']\n",
    "\n",
    "cm = confusion_matrix(y_test, y_pred)\n",
    "print(\"Confusion Matrix : \\n\", cm)"
   ]
  },
  {
   "cell_type": "markdown",
   "id": "9f3a04b5",
   "metadata": {},
   "source": [
    "### **Answer 1 a) iv**\n",
    "\n",
    "**True Negative:** 495\\\n",
    "**False Negative:** 31\\\n",
    "**False Positive:** 423\\\n",
    "**True Positive:** 149\n",
    "\n",
    "**Accuracy:** $ \\frac{(TP+TN)}{ALL}  = \\frac{495 + 149}{495+31+423+149} = 0.587$ or 58.7%\n",
    "\n",
    "**TPR (Sensitivity):** $ \\frac{TP}{TP + FN} = \\frac{149}{149 + 31} = 0.828$ or 82.8%\n",
    "\n",
    "**FPR (Specificity):** $ \\frac{TN}{TN + FP} = \\frac{495}{495 + 423} = 0.461$ or 46.1%\n",
    " \n",
    "\n",
    "The test is 58.7% accurate, therefore, 58.7% of the time we can correctly identify whether a person will develop CHD.\n",
    "\n",
    "82.8% of the time the model can identify the people who indeed develop CHD.\n",
    "\n",
    "53.9% of the time the model can identify the people who would NOT develop CHD."
   ]
  },
  {
   "cell_type": "markdown",
   "id": "e984b4a6",
   "metadata": {},
   "source": [
    "### **Answer 1 a) v**\n",
    "\n",
    "**Not accounting for the special probabilities (CHD medication does not affect the outcomes):**\n",
    "\n",
    "$ \\frac{TP * 1,050,000 + FP * 95,000 + FN * 955,000 + FP * 0}{total} = $ \n",
    "\n",
    "$ \\frac{149 * 1,050,000 + 423 * 95,000 + 31 * 955,000 + 423 * 0}{1098}= \\frac{226240000}{1098} = \\$206,047.36$ \n",
    "\n",
    "\n",
    "**Accounting for the special probabilities (CHD medication not affects the outcomes):**\n",
    "\n",
    "$ \\frac{0.1* TP * 1,050,000 +  ((1-0.1)*TP + FP )* 95,000  + FN * 955,000 + FP * 0}{total} = $ \n",
    "\n",
    "$ \\frac{0.1* 149 * 1,050,000 + (0.9 * 149 + 423) * 95,000 + 31 * 955,000 + 423 * 0}{1098}= \\frac{98174500}{1098} = \\$89,412.11$ \n",
    "\n",
    "\n",
    "Accounting for the different odds for prescribing the medication, we observe a drastically improved economic cost per patient. Not accounting for the fact that the treatment impacts patient's risk of developing CHD is not reasonable estimate (the first calculation we did) because if the CHD treatment indeed affects outcomes, the cost would be different, hense, the second calculation.\n"
   ]
  },
  {
   "cell_type": "markdown",
   "id": "e8f6d3f5",
   "metadata": {},
   "source": [
    "### **Answer 1 a) vi**"
   ]
  },
  {
   "cell_type": "code",
   "execution_count": 129,
   "id": "9bf65a48",
   "metadata": {},
   "outputs": [
    {
     "name": "stdout",
     "output_type": "stream",
     "text": [
      "Confusion Matrix : \n",
      " [[918   0]\n",
      " [180   0]]\n"
     ]
    }
   ],
   "source": [
    "#For high threshol\n",
    "# 1. Predicting the probability of default\n",
    "y_prob2 = logreg.predict(testing_data)\n",
    "# 2. Predicting the label\n",
    "y_pred2 = pd.Series([1 if x > 1 else 0 for x in y_prob2], index=y_prob2.index)\n",
    "\n",
    "y_test2 = testing_data['TenYearCHD']\n",
    "\n",
    "cm = confusion_matrix(y_test2, y_pred2)\n",
    "print(\"Confusion Matrix : \\n\", cm)"
   ]
  },
  {
   "cell_type": "markdown",
   "id": "f8817c99",
   "metadata": {},
   "source": [
    "**New Accuracy:** $ \\frac{(TP+TN)}{ALL}  = \\frac{918}{918+180} = 0.836$ or 83.6%\n",
    "\n",
    "**TPR:** 0\n",
    "\n",
    "**FPT:** 0\n",
    "\n",
    "**Cost per Patient:**\n",
    "\n",
    "$ \\frac{0.1* TP * 1,050,000 +  ((1-0.1)*TP + FP )* 95,000  + FN * 955,000 + FP * 0}{total} = $ \n",
    "\n",
    "$ \\frac{0 * 1,050,000 + 0* 95,000 + 180 * 955,000 + 918 * 0}{1098}= \\frac{171,900,000}{1098} = \\$156,557.38$ \n",
    "\n",
    "Using a simple baseline model that predicts none of the patients are at high risk gives us a very high accuracy. However it will not predict potential chance of developing CHD, therefore nooone would be prescribed medication. Thus this will lead to much higher treatment/economic cost per patient since noone will be medicated prior to reduce the development of CHD."
   ]
  },
  {
   "cell_type": "markdown",
   "id": "77c58770",
   "metadata": {},
   "source": []
  },
  {
   "cell_type": "markdown",
   "id": "341cf81e",
   "metadata": {},
   "source": [
    "### **Answer 1 a) vii**\n",
    "\n",
    "Female, age 39, GED education, currently a smoker with an average of 6 cigarettes\n",
    "per day. Currently not on blood pressure medication, has not had stroke\n",
    "and is not hypertensive. Currently diagnosed with diabetes; total Cholesterol\n",
    "at 230. Systolic/diastolic blood pressure at 110/50, BMI at 28, heart\n",
    "rate at 72, glucose level at 80."
   ]
  },
  {
   "cell_type": "markdown",
   "id": "e9f4aef1",
   "metadata": {},
   "source": [
    "Female implies male = 0\\\n",
    "Age = 39\\\n",
    "Education is GED, so education[High school/GED] = 1, and all other education dummy variables are 0\\\n",
    "CurrentSmoker = 1 (as the patient is currently a smoker)\\\n",
    "CigsPerDay = 6\\\n",
    "BPMeds = 0 (as the patient is not on blood pressure medication)\\\n",
    "PrevalentStroke = 0 (as the patient has not had a stroke)\\\n",
    "PrevalentHyp = 0 (as the patient is not hypertensive)\\\n",
    "Diabetes = 1 (as the patient is currently diagnosed with diabetes)\\\n",
    "TotChol = 230\\\n",
    "SysBP = 110\\\n",
    "DiaBP = 50\\\n",
    "BMI = 28\\\n",
    "HeartRate = 72\\\n",
    "Glucose = 80"
   ]
  },
  {
   "cell_type": "markdown",
   "id": "d0979b73",
   "metadata": {},
   "source": [
    "\\begin{aligned}\n",
    "P(Y = 1 | X ) = \\frac{1}{1 + e^{-x}}\n",
    "\\end{aligned}\n",
    "\n",
    "$x=− 8.0533 + 0.0041 * 1 + 0.0637 * 39 + 0.0608 * 1 + 0.0190 * 6 − 0.0086* 1 + 0.0027* 230 + 0.0133* 110 - 0.0066* 50 + 0.0150* 28 - 0.0056* 72 + 0.0054* 80$"
   ]
  },
  {
   "cell_type": "code",
   "execution_count": 130,
   "id": "54363376",
   "metadata": {},
   "outputs": [
    {
     "name": "stdout",
     "output_type": "stream",
     "text": [
      "x: -3.1959000000000013\n",
      "P(Y = 1 | X): 0.03932030490354147\n"
     ]
    }
   ],
   "source": [
    "import math\n",
    "\n",
    "# Calculation of x\n",
    "x = (\n",
    "    -8.0533 + \n",
    "    0.0041 * 1 +    # education[High school/GED]\n",
    "    0.0637 * 39 +   # age\n",
    "    0.0608 * 1 +    # currentSmoker\n",
    "    0.0190 * 6 +    # cigsPerDay\n",
    "    -0.0086 * 1 +   # diabetes\n",
    "    0.0027 * 230 +  # totChol\n",
    "    0.0133 * 110 +  # sysBP\n",
    "    -0.0066 * 50 +  # diaBP\n",
    "    0.0150 * 28 +   # BMI\n",
    "    -0.0056 * 72 +  # heartRate\n",
    "    0.0054 * 80     # glucose\n",
    ")\n",
    "\n",
    "# Calculating the probability P(Y = 1 | X)\n",
    "p = 1 / (1 + math.exp(-x))\n",
    "\n",
    "# Print the results\n",
    "print(\"x:\", x)\n",
    "print(\"P(Y = 1 | X):\", p)\n"
   ]
  },
  {
   "cell_type": "markdown",
   "id": "98470cfa",
   "metadata": {},
   "source": [
    "The predicted probability that this patient will experience CHD is 3.93%. based on the $p(hat) = 0.11 (11\\%)$, the physician should not prescribe the preventative medication for this patient."
   ]
  },
  {
   "cell_type": "markdown",
   "id": "4f5e5955",
   "metadata": {},
   "source": [
    "## ROC CURVE"
   ]
  },
  {
   "cell_type": "markdown",
   "id": "59b0280f",
   "metadata": {},
   "source": [
    "#### Answer 1 b)"
   ]
  },
  {
   "cell_type": "code",
   "execution_count": 131,
   "id": "908a908e",
   "metadata": {},
   "outputs": [],
   "source": [
    "y_train = training_data['TenYearCHD']\n",
    "X_train = training_data.drop(['TenYearCHD'], axis=1)\n",
    "\n",
    "y_test = testing_data['TenYearCHD']\n",
    "X_test = testing_data.drop(['TenYearCHD'], axis=1)"
   ]
  },
  {
   "cell_type": "code",
   "execution_count": 132,
   "id": "e4efbb56",
   "metadata": {},
   "outputs": [
    {
     "data": {
      "image/png": "[encoded data removed]",
      "text/plain": [
       "<Figure size 800x600 with 1 Axes>"
      ]
     },
     "metadata": {},
     "output_type": "display_data"
    }
   ],
   "source": [
    "import matplotlib.pyplot as plt\n",
    "from sklearn.metrics import roc_curve, auc\n",
    "\n",
    "fpr, tpr, _ = roc_curve(y_test, y_prob)\n",
    "roc_auc = auc(fpr, tpr)\n",
    "\n",
    "plt.figure(figsize=(8, 6))\n",
    "plt.title('ROC Curve', fontsize=18)\n",
    "plt.xlabel('FPR', fontsize=16)\n",
    "plt.ylabel('TPR', fontsize=16)\n",
    "plt.xlim([-0.01, 1.00])\n",
    "plt.ylim([-0.01, 1.01])\n",
    "plt.plot(fpr, tpr, lw=3, label='Logistic Regression (area = {:0.2f})'.format(roc_auc))\n",
    "plt.plot([0, 1], [0, 1], color='navy', lw=3, linestyle='--', label='Naive Baseline (area = 0.50)')\n",
    "plt.legend(loc='lower right', fontsize=14)\n",
    "plt.show()"
   ]
  },
  {
   "cell_type": "markdown",
   "id": "8a2760f6",
   "metadata": {},
   "source": [
    "Naive Baseline of 0.5 is equivalent to a random guessing - We want AUC to be located in the top left diagonal of the graph. \n",
    "\n",
    "This model has an ROC-AUC of 0.75, which is significantly better than random guessing. One important finding is that this model has better discriminatory power between the positive and negative classes than the Naive baseline. \n",
    "\n",
    "The ROC curve ilustrates the trade-off between TPR and FPR. This is a very imporant information for decision makers to find the optimal balance betweek clinical and economic implications of the outcomes of patients. \n",
    "\n",
    "The cutoff value should be where the True Positive (1,050,000 )is high and False Positive is low. The current TPR and FPR are 82.8% and 46.1% respectively, which is a significant improvement from the naive baseline. "
   ]
  },
  {
   "cell_type": "markdown",
   "id": "3c084699",
   "metadata": {},
   "source": [
    "### **Answer 1 c)**\n",
    "\n",
    "This question can be answered as an economic model approach by looking into individual's utility function.\n",
    "\n",
    "Suppose, each patient has a utility function representing their well-being, where higher utility represents better well-being. A patient will choose the option that maximizes their expected utility.\n",
    "\n",
    "Patients are making decisions under uncertainty about whether they will develop CHD. They will weigh the expected utility of paying the co-payment and potentially preventing CHD against not paying the co-payment and risking the development of CHD with its associated costs.\n",
    "\n",
    "Time discount factors should be incorporated to account for the fact that individuals may value present benefits and costs differently from future benefits and costs. If the benefits (or costs) are in the future (for some they will be way out in the future), they would be discounted back to their present value.\n",
    "\n",
    "\n",
    "There are several ethical implications with co-payment plans as well, such as accessibility for this medication or treatment for low income indviduals. A high co-payment plan can prevent underpreviledged indiviuals accessing a necessary treatment leading to health inequities. More importantly, insurance companies' primary goal is make a profit. Finding an optimal balance between maximizing profit and optimizing patient outcomes might be challenging to accomplish, since they cannot truly coexist.\n"
   ]
  },
  {
   "cell_type": "markdown",
   "id": "c1d938a4",
   "metadata": {},
   "source": [
    "### **Answer 1 d)**\n",
    "\n"
   ]
  },
  {
   "cell_type": "markdown",
   "id": "15bee189",
   "metadata": {},
   "source": [
    "Yes, an ethical concern would be the fact we would allow for false negatives (31), which means we let 31 people not be treated with the medication, which could have improved their life quality (or prevented them from worsening their life's quality). However, the entire model is solely based on minimizing cost rather than focusing on the best patient outcomes. \n",
    "\n",
    "I understand that there is a fine line and limitation of resources, so we might not be able to administer the medication to all, but there should be considerable attention to any possible risks and perhaps refining the model to better account for the false negatives."
   ]
  },
  {
   "cell_type": "code",
   "execution_count": 137,
   "id": "5c5eacfa",
   "metadata": {},
   "outputs": [],
   "source": [
    "%%capture\n",
    "!jupyter nbconvert --to html homework2.ipynb"
   ]
  }
 ],
 "metadata": {
  "kernelspec": {
   "display_name": "Python 3 (ipykernel)",
   "language": "python",
   "name": "python3"
  },
  "language_info": {
   "codemirror_mode": {
    "name": "ipython",
    "version": 3
   },
   "file_extension": ".py",
   "mimetype": "text/x-python",
   "name": "python",
   "nbconvert_exporter": "python",
   "pygments_lexer": "ipython3",
   "version": "3.11.4"
  }
 },
 "nbformat": 4,
 "nbformat_minor": 5
}
